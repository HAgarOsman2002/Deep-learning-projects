{
  "nbformat": 4,
  "nbformat_minor": 0,
  "metadata": {
    "colab": {
      "provenance": [],
      "authorship_tag": "ABX9TyPi5OQNdkul/l4d6kJEuE76",
      "include_colab_link": true
    },
    "kernelspec": {
      "name": "python3",
      "display_name": "Python 3"
    },
    "language_info": {
      "name": "python"
    }
  },
  "cells": [
    {
      "cell_type": "markdown",
      "metadata": {
        "id": "view-in-github",
        "colab_type": "text"
      },
      "source": [
        "<a href=\"https://colab.research.google.com/github/HAgarOsman2002/Deep-learning-projects/blob/main/tensorflow_version1_impmentation_%26_linear_regression_from_scratch_using_V1.ipynb\" target=\"_parent\"><img src=\"https://colab.research.google.com/assets/colab-badge.svg\" alt=\"Open In Colab\"/></a>"
      ]
    },
    {
      "cell_type": "markdown",
      "source": [
        "#**import libraries**\n"
      ],
      "metadata": {
        "id": "Ngjc9RyekdfY"
      }
    },
    {
      "cell_type": "code",
      "execution_count": 2,
      "metadata": {
        "id": "3GWkZUsXkPD2"
      },
      "outputs": [],
      "source": [
        "import tensorflow as tf\n",
        "import numpy as np\n",
        "import matplotlib as plt\n",
        "import seaborn as sns\n",
        "import pandas as pd"
      ]
    },
    {
      "cell_type": "markdown",
      "source": [
        " * disable tensorflow version 2 to work with vesrion 1"
      ],
      "metadata": {
        "id": "fmoJasIBlhME"
      }
    },
    {
      "cell_type": "code",
      "source": [
        "tf.compat.v1.disable_eager_execution()"
      ],
      "metadata": {
        "id": "qMO871Rnkcf_"
      },
      "execution_count": 3,
      "outputs": []
    },
    {
      "cell_type": "markdown",
      "source": [
        "* data Types on tensorflow 1 are constatns and variables but u have to convert them to tensors\n",
        "  \n",
        "#step 1 Graph (definition):\n",
        "       * we just applied the definition to create the graph so when we printed the x the value of it doesn't appear instead of this\n",
        "        (x= tf.constant('Tensorflow'))\n"
      ],
      "metadata": {
        "id": "RVB3wUbAmDyA"
      }
    },
    {
      "cell_type": "code",
      "source": [
        "x= tf.constant('Tensorflow')\n",
        "print(x)"
      ],
      "metadata": {
        "colab": {
          "base_uri": "https://localhost:8080/"
        },
        "id": "Ckc1VdVCldQu",
        "outputId": "1b68ba1b-4015-437d-e8dc-5c1f27adb965"
      },
      "execution_count": 4,
      "outputs": [
        {
          "output_type": "stream",
          "name": "stdout",
          "text": [
            "Tensor(\"Const:0\", shape=(), dtype=string)\n"
          ]
        }
      ]
    },
    {
      "cell_type": "markdown",
      "source": [
        "#**step 2 Excution (open session)**"
      ],
      "metadata": {
        "id": "geZSaA_4nIoW"
      }
    },
    {
      "cell_type": "code",
      "source": [
        "sess = tf.compat.v1.Session()\n",
        "s = sess.run(x)\n",
        "print(s)\n",
        "sess.close()    #(b) for object"
      ],
      "metadata": {
        "colab": {
          "base_uri": "https://localhost:8080/"
        },
        "id": "44ZXgOuGmRJo",
        "outputId": "82a0cb83-8b55-4aee-f552-e3c5ca89f2fe"
      },
      "execution_count": 5,
      "outputs": [
        {
          "output_type": "stream",
          "name": "stdout",
          "text": [
            "b'Tensorflow'\n"
          ]
        }
      ]
    },
    {
      "cell_type": "markdown",
      "source": [
        "another trial"
      ],
      "metadata": {
        "id": "tfOvsbCjoKyg"
      }
    },
    {
      "cell_type": "code",
      "source": [
        "x =tf.constant(4)\n",
        "y = tf.constant(10)\n",
        "z= tf.add(x,y)\n",
        "print(z)"
      ],
      "metadata": {
        "colab": {
          "base_uri": "https://localhost:8080/"
        },
        "id": "9gekPPD3niql",
        "outputId": "d88e8963-24d2-4bdc-b2a3-1a6a447dc6c5"
      },
      "execution_count": 6,
      "outputs": [
        {
          "output_type": "stream",
          "name": "stdout",
          "text": [
            "Tensor(\"Add:0\", shape=(), dtype=int32)\n"
          ]
        }
      ]
    },
    {
      "cell_type": "code",
      "source": [
        "sess = tf.compat.v1.Session()\n",
        "s = sess.run(z)\n",
        "print(s)\n",
        "sess.close()    #(b) for object"
      ],
      "metadata": {
        "colab": {
          "base_uri": "https://localhost:8080/"
        },
        "id": "Cd-VhnYioDb2",
        "outputId": "c2efd3f5-205e-4788-cd3b-fdcf35e28947"
      },
      "execution_count": 7,
      "outputs": [
        {
          "output_type": "stream",
          "name": "stdout",
          "text": [
            "14\n"
          ]
        }
      ]
    },
    {
      "cell_type": "markdown",
      "source": [
        "another way to close the session"
      ],
      "metadata": {
        "id": "HWwW0tuTqRrn"
      }
    },
    {
      "cell_type": "code",
      "source": [
        "with tf.compat.v1.Session() as sess:\n",
        "  res=sess.run(z)\n",
        "  print(res)"
      ],
      "metadata": {
        "colab": {
          "base_uri": "https://localhost:8080/"
        },
        "id": "4exf1SpXoI2q",
        "outputId": "ce33eed4-8597-497d-86d9-c2bbaa1e4741"
      },
      "execution_count": 8,
      "outputs": [
        {
          "output_type": "stream",
          "name": "stdout",
          "text": [
            "14\n"
          ]
        }
      ]
    },
    {
      "cell_type": "code",
      "source": [
        "#Defining numby matrix\n",
        "var1 = np.arange(1,13,dtype=np.int32) #12\n",
        "var2 = np.arange(15,27,dtype=np.int32) #12 digit of range 15:17\n",
        "var1"
      ],
      "metadata": {
        "colab": {
          "base_uri": "https://localhost:8080/"
        },
        "id": "vuWUu14iqQcm",
        "outputId": "dabd007d-48a6-4afa-a21c-eec522d77346"
      },
      "execution_count": 9,
      "outputs": [
        {
          "output_type": "execute_result",
          "data": {
            "text/plain": [
              "array([ 1,  2,  3,  4,  5,  6,  7,  8,  9, 10, 11, 12], dtype=int32)"
            ]
          },
          "metadata": {},
          "execution_count": 9
        }
      ]
    },
    {
      "cell_type": "code",
      "source": [
        "#converting matrces to tensors\n",
        "mat1=tf.constant(var1,shape=[3,4])\n",
        "mat2=tf.constant(var1,shape=[4,3])\n",
        "res = tf.matmul(mat1,mat2)\n",
        "res"
      ],
      "metadata": {
        "colab": {
          "base_uri": "https://localhost:8080/"
        },
        "id": "d7TGfNhZq_Xq",
        "outputId": "b53de77f-fccc-437c-f916-69d909528965"
      },
      "execution_count": 10,
      "outputs": [
        {
          "output_type": "execute_result",
          "data": {
            "text/plain": [
              "<tf.Tensor 'MatMul:0' shape=(3, 3) dtype=int32>"
            ]
          },
          "metadata": {},
          "execution_count": 10
        }
      ]
    },
    {
      "cell_type": "code",
      "source": [
        "#open & clossing session to print results\n",
        "with tf.compat.v1.Session() as sess:\n",
        "  res=sess.run(res)\n",
        "  print(res)"
      ],
      "metadata": {
        "colab": {
          "base_uri": "https://localhost:8080/"
        },
        "id": "5ZZzLEuwsggQ",
        "outputId": "1efa6496-724f-4ac7-dd91-3ff313cf44ca"
      },
      "execution_count": 11,
      "outputs": [
        {
          "output_type": "stream",
          "name": "stdout",
          "text": [
            "[[ 70  80  90]\n",
            " [158 184 210]\n",
            " [246 288 330]]\n"
          ]
        }
      ]
    },
    {
      "cell_type": "markdown",
      "source": [
        "#Exercice:\n",
        "   * get the :v1=[1,2,3,4] ,v2[6,7,8,9]\n",
        "    * add\n",
        "    * sub\n",
        "    * multi\n",
        "    * divide\n"
      ],
      "metadata": {
        "id": "yKmqBpR6tgYt"
      }
    },
    {
      "cell_type": "code",
      "source": [
        "#converting matrces to tensors\n",
        "v1 = tf.constant([1,2,3,4])\n",
        "v2 = tf.constant([6,7,8,9])\n",
        "\n",
        "mult = tf.multiply(v1,v2)\n",
        "add = tf.add(v1,v2)\n",
        "subtract = tf.subtract(v1,v2)\n",
        "divide = tf.divide(v1,v2)\n",
        "\n",
        "with tf.compat.v1.Session() as sess:\n",
        "  print(sess.run(mult))\n",
        "  print(sess.run(add))\n",
        "  print(sess.run(subtract))\n",
        "  print(sess.run(divide))\n",
        "\n"
      ],
      "metadata": {
        "colab": {
          "base_uri": "https://localhost:8080/"
        },
        "id": "K5GSp1MxtYgt",
        "outputId": "2e1b2488-df63-44a2-80cf-d104d5562886"
      },
      "execution_count": 12,
      "outputs": [
        {
          "output_type": "stream",
          "name": "stdout",
          "text": [
            "[ 6 14 24 36]\n",
            "[ 7  9 11 13]\n",
            "[-5 -5 -5 -5]\n",
            "[0.16666667 0.28571429 0.375      0.44444444]\n"
          ]
        }
      ]
    },
    {
      "cell_type": "markdown",
      "source": [
        "#**apply linear regression using Tensorflow**\n",
        "    * y = wx + b"
      ],
      "metadata": {
        "id": "kxEME2bkxkbX"
      }
    },
    {
      "cell_type": "code",
      "source": [
        "X_data =np.random.randn(4,9)  #randn btgeb arkam random bs feha normal distribution\n",
        "w_data =np.random.randn(9,1)\n",
        "b_data =np.zeros(4)"
      ],
      "metadata": {
        "id": "anDZwMi1ublf"
      },
      "execution_count": 13,
      "outputs": []
    },
    {
      "cell_type": "code",
      "source": [
        "x = tf.constant(X_data, shape = [4,9])\n",
        "w = tf.constant(w_data, shape = [9,1])  # weight should not be constat\n",
        "b = tf.constant(b_data, shape = [4,1])"
      ],
      "metadata": {
        "id": "4-f6bQ6EynBw"
      },
      "execution_count": 14,
      "outputs": []
    },
    {
      "cell_type": "code",
      "source": [
        "y = tf.add(tf.matmul(x,w),b)"
      ],
      "metadata": {
        "id": "w-xZlihH0ZD3"
      },
      "execution_count": 15,
      "outputs": []
    },
    {
      "cell_type": "code",
      "source": [
        "with tf.compat.v1.Session() as sess:\n",
        "  print(sess.run(y))"
      ],
      "metadata": {
        "colab": {
          "base_uri": "https://localhost:8080/"
        },
        "id": "Dh8x9uvH2UZT",
        "outputId": "cb4592f8-bd70-484b-93e9-445017f8899c"
      },
      "execution_count": 16,
      "outputs": [
        {
          "output_type": "stream",
          "name": "stdout",
          "text": [
            "[[ 1.8262083 ]\n",
            " [-1.05615463]\n",
            " [-3.47032721]\n",
            " [ 0.50095309]]\n"
          ]
        }
      ]
    },
    {
      "cell_type": "markdown",
      "source": [
        "#variable\n",
        "   * to make varibale u have to\n",
        "\n",
        "     1.   definition\n",
        "     2.   initialization\n",
        "     3.   Excution(session)\n",
        "\n"
      ],
      "metadata": {
        "id": "7qxpJdxzyg5j"
      }
    },
    {
      "cell_type": "code",
      "source": [
        "var1 = tf.Variable(12 , name=\"variable\")\n",
        "var2 = tf.Variable(13 , name=\"variable\")"
      ],
      "metadata": {
        "id": "MmCllaBO3-xo"
      },
      "execution_count": 17,
      "outputs": []
    },
    {
      "cell_type": "code",
      "source": [
        "init = tf.compat.v1.global_variables_initializer()"
      ],
      "metadata": {
        "id": "TyKXJ6ZzawJG"
      },
      "execution_count": 18,
      "outputs": []
    },
    {
      "cell_type": "code",
      "source": [
        "with tf.compat.v1.Session() as sess:\n",
        "  sess.run(init)\n",
        "  print(sess.run(var1))"
      ],
      "metadata": {
        "colab": {
          "base_uri": "https://localhost:8080/"
        },
        "id": "Dm0KOozT4NDA",
        "outputId": "463937ef-d884-4f61-864b-7f76211ff5d2"
      },
      "execution_count": 19,
      "outputs": [
        {
          "output_type": "stream",
          "name": "stdout",
          "text": [
            "12\n"
          ]
        }
      ]
    },
    {
      "cell_type": "markdown",
      "source": [
        "#**linear regression using variable**\n",
        " * w = [[1,2,3]]\n",
        " * x = [3] ,[4] ,[5]\n",
        " * b=1"
      ],
      "metadata": {
        "id": "hwxwkyTO1qG3"
      }
    },
    {
      "cell_type": "code",
      "source": [
        "from operator import matmul\n",
        "x = tf.constant([[3],[4],[4]],shape=(3,1))\n",
        "w = tf.Variable([[1,2,3]],shape=(1,3))\n",
        "b = tf.Variable(1)\n",
        "res = tf.add(tf.matmul(x,w),b)\n",
        "res"
      ],
      "metadata": {
        "id": "QUcQqhxp4ZpE",
        "colab": {
          "base_uri": "https://localhost:8080/"
        },
        "outputId": "f5289c81-18b3-4803-b1a2-514c382be605"
      },
      "execution_count": 20,
      "outputs": [
        {
          "output_type": "execute_result",
          "data": {
            "text/plain": [
              "<tf.Tensor 'Add_3:0' shape=(3, 3) dtype=int32>"
            ]
          },
          "metadata": {},
          "execution_count": 20
        }
      ]
    },
    {
      "cell_type": "code",
      "source": [
        "init = tf.compat.v1.global_variables_initializer()"
      ],
      "metadata": {
        "id": "vUN5EemC4bR8"
      },
      "execution_count": 21,
      "outputs": []
    },
    {
      "cell_type": "code",
      "source": [
        "with tf.compat.v1.Session() as sess:\n",
        "  sess.run(init)\n",
        "  print(sess.run(res))"
      ],
      "metadata": {
        "colab": {
          "base_uri": "https://localhost:8080/"
        },
        "id": "vjX4PQrA2HAc",
        "outputId": "806d5744-5101-4c80-ce95-6961a29fd418"
      },
      "execution_count": 22,
      "outputs": [
        {
          "output_type": "stream",
          "name": "stdout",
          "text": [
            "[[ 4  7 10]\n",
            " [ 5  9 13]\n",
            " [ 5  9 13]]\n"
          ]
        }
      ]
    },
    {
      "cell_type": "markdown",
      "source": [
        "#**Linear Regression using Gradient descent to update the weight**"
      ],
      "metadata": {
        "id": "xD2juVp07_NF"
      }
    },
    {
      "cell_type": "code",
      "source": [
        "x_data = np.array([ [4,2],[3,5],[4,5],[4,3] ],dtype=f\"float64\")\n",
        "y_data = np.array([ [5],[7],[6],[9] ],dtype=f\"float64\")"
      ],
      "metadata": {
        "id": "NXv3hj633atl"
      },
      "execution_count": 23,
      "outputs": []
    },
    {
      "cell_type": "code",
      "source": [
        "x = tf.constant(x_data)\n",
        "y =  tf.constant(y_data)\n",
        "\n",
        "w = tf.Variable(np.random.randn(2,1))\n",
        "b = tf.Variable(np.zeros(4),dtype=\"float64\")"
      ],
      "metadata": {
        "id": "ZEiUaoZw80Eq"
      },
      "execution_count": 24,
      "outputs": []
    },
    {
      "cell_type": "code",
      "source": [
        "init = tf.compat.v1.global_variables_initializer()"
      ],
      "metadata": {
        "id": "1wJF-7P99TbQ"
      },
      "execution_count": 29,
      "outputs": []
    },
    {
      "cell_type": "code",
      "source": [
        "#feedforward\n",
        "y_pred = tf.add(tf.matmul(x,w), b)\n",
        "#Backrward\n",
        "cost = tf.reduce_mean(tf.square(y_pred -y))\n",
        "optmizer = tf.compat.v1.train.GradientDescentOptimizer(learning_rate = .11).minimize(cost)"
      ],
      "metadata": {
        "id": "MfXI51JM-Vic"
      },
      "execution_count": 30,
      "outputs": []
    },
    {
      "cell_type": "code",
      "source": [
        "with tf.compat.v1.Session() as sess:\n",
        "  sess.run(init)\n",
        "  print(\"the initial weights: \")\n",
        "  print(sess.run(w))\n",
        "#--------------------------------\n",
        "  print(\"the first y_predict: \")\n",
        "  print(sess.run(y_pred))\n",
        "#--------------------------------\n",
        "  sess.run(optmizer)\n",
        "#-------------------------------\n",
        "  print('the updated weights :')\n",
        "  print(sess.run(w))\n",
        "  print('the updated y_pred :')\n",
        "  print(sess.run (y_pred))\n"
      ],
      "metadata": {
        "id": "2CnYY27J_MRz",
        "colab": {
          "base_uri": "https://localhost:8080/"
        },
        "outputId": "d014f940-4e78-474e-87a8-1b2f2a51e98e"
      },
      "execution_count": 32,
      "outputs": [
        {
          "output_type": "stream",
          "name": "stdout",
          "text": [
            "the initial weights: \n",
            "[[-0.73717524]\n",
            " [ 0.89194487]]\n",
            "the first y_predict: \n",
            "[[-1.16481123 -1.16481123 -1.16481123 -1.16481123]\n",
            " [ 2.24819861  2.24819861  2.24819861  2.24819861]\n",
            " [ 1.51102337  1.51102337  1.51102337  1.51102337]\n",
            " [-0.27286637 -0.27286637 -0.27286637 -0.27286637]]\n",
            "the updated weights :\n",
            "[[4.43073589]\n",
            " [5.64131098]]\n",
            "the updated y_pred :\n",
            "[[29.34489428 29.34489428 29.34489428 29.34489428]\n",
            " [41.83809134 41.83809134 41.83809134 41.83809134]\n",
            " [46.26882723 46.26882723 46.26882723 46.26882723]\n",
            " [34.98620527 34.98620527 34.98620527 34.98620527]]\n"
          ]
        }
      ]
    },
    {
      "cell_type": "code",
      "source": [
        "sess.run"
      ],
      "metadata": {
        "id": "1ACOwRzrqZop"
      },
      "execution_count": null,
      "outputs": []
    },
    {
      "cell_type": "code",
      "source": [],
      "metadata": {
        "id": "gQlQ5NGzpaA5"
      },
      "execution_count": null,
      "outputs": []
    }
  ]
}