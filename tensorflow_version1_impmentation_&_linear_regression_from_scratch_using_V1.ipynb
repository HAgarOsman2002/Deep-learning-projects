{
  "nbformat": 4,
  "nbformat_minor": 0,
  "metadata": {
    "colab": {
      "provenance": [],
      "authorship_tag": "ABX9TyNP2eZ8oYFcYDrrzB1m1i+o",
      "include_colab_link": true
    },
    "kernelspec": {
      "name": "python3",
      "display_name": "Python 3"
    },
    "language_info": {
      "name": "python"
    }
  },
  "cells": [
    {
      "cell_type": "markdown",
      "metadata": {
        "id": "view-in-github",
        "colab_type": "text"
      },
      "source": [
        "<a href=\"https://colab.research.google.com/github/HAgarOsman2002/Deep-learning-projects/blob/main/tensorflow_version1_impmentation_%26_linear_regression_from_scratch_using_V1.ipynb\" target=\"_parent\"><img src=\"https://colab.research.google.com/assets/colab-badge.svg\" alt=\"Open In Colab\"/></a>"
      ]
    },
    {
      "cell_type": "markdown",
      "source": [
        "#**import libraries**\n"
      ],
      "metadata": {
        "id": "Ngjc9RyekdfY"
      }
    },
    {
      "cell_type": "code",
      "execution_count": null,
      "metadata": {
        "id": "3GWkZUsXkPD2"
      },
      "outputs": [],
      "source": [
        "import tensorflow as tf\n",
        "import numpy as np\n",
        "import matplotlib as plt\n",
        "import seaborn as sns\n",
        "import pandas as pd"
      ]
    },
    {
      "cell_type": "markdown",
      "source": [
        " * disable tensorflow version 2 to work with vesrion 1"
      ],
      "metadata": {
        "id": "fmoJasIBlhME"
      }
    },
    {
      "cell_type": "code",
      "source": [
        "tf.compat.v1.disable_eager_execution()"
      ],
      "metadata": {
        "id": "qMO871Rnkcf_"
      },
      "execution_count": null,
      "outputs": []
    },
    {
      "cell_type": "markdown",
      "source": [
        "* data Types on tensorflow 1 are constatns and variables but u have to convert them to tensors\n",
        "  \n",
        "#step 1 Graph (definition):\n",
        "       * we just applied the definition to create the graph so when we printed the x the value of it doesn't appear instead of this\n",
        "        (x= tf.constant('Tensorflow'))\n"
      ],
      "metadata": {
        "id": "RVB3wUbAmDyA"
      }
    },
    {
      "cell_type": "code",
      "source": [
        "x= tf.constant('Tensorflow')\n",
        "print(x)"
      ],
      "metadata": {
        "colab": {
          "base_uri": "https://localhost:8080/"
        },
        "id": "Ckc1VdVCldQu",
        "outputId": "35446055-1d22-4de7-a422-1cf3410d4680"
      },
      "execution_count": null,
      "outputs": [
        {
          "output_type": "stream",
          "name": "stdout",
          "text": [
            "Tensor(\"Const:0\", shape=(), dtype=string)\n"
          ]
        }
      ]
    },
    {
      "cell_type": "markdown",
      "source": [
        "#**step 2 Excution (open session)**"
      ],
      "metadata": {
        "id": "geZSaA_4nIoW"
      }
    },
    {
      "cell_type": "code",
      "source": [
        "sess = tf.compat.v1.Session()\n",
        "s = sess.run(x)\n",
        "print(s)\n",
        "sess.close()    #(b) for object"
      ],
      "metadata": {
        "colab": {
          "base_uri": "https://localhost:8080/"
        },
        "id": "44ZXgOuGmRJo",
        "outputId": "fb48a302-3c48-4725-f338-8cd949f6893d"
      },
      "execution_count": null,
      "outputs": [
        {
          "output_type": "stream",
          "name": "stdout",
          "text": [
            "b'Tensorflow'\n"
          ]
        }
      ]
    },
    {
      "cell_type": "markdown",
      "source": [
        "another trial"
      ],
      "metadata": {
        "id": "tfOvsbCjoKyg"
      }
    },
    {
      "cell_type": "code",
      "source": [
        "x =tf.constant(4)\n",
        "y = tf.constant(10)\n",
        "z= tf.add(x,y)\n",
        "print(z)"
      ],
      "metadata": {
        "colab": {
          "base_uri": "https://localhost:8080/"
        },
        "id": "9gekPPD3niql",
        "outputId": "1d0b0e9b-492a-4348-a21a-c622c3fbaa41"
      },
      "execution_count": null,
      "outputs": [
        {
          "output_type": "stream",
          "name": "stdout",
          "text": [
            "Tensor(\"Add:0\", shape=(), dtype=int32)\n"
          ]
        }
      ]
    },
    {
      "cell_type": "code",
      "source": [
        "sess = tf.compat.v1.Session()\n",
        "s = sess.run(z)\n",
        "print(s)\n",
        "sess.close()    #(b) for object"
      ],
      "metadata": {
        "colab": {
          "base_uri": "https://localhost:8080/"
        },
        "id": "Cd-VhnYioDb2",
        "outputId": "df6eeecf-74b9-4294-a245-c0c5883aaffe"
      },
      "execution_count": null,
      "outputs": [
        {
          "output_type": "stream",
          "name": "stdout",
          "text": [
            "14\n"
          ]
        }
      ]
    },
    {
      "cell_type": "markdown",
      "source": [
        "another way to close the session"
      ],
      "metadata": {
        "id": "HWwW0tuTqRrn"
      }
    },
    {
      "cell_type": "code",
      "source": [
        "with tf.compat.v1.Session() as sess:\n",
        "  res=sess.run(z)\n",
        "  print(res)"
      ],
      "metadata": {
        "colab": {
          "base_uri": "https://localhost:8080/"
        },
        "id": "4exf1SpXoI2q",
        "outputId": "45512fb7-be01-4b6a-aa1f-f260340e42af"
      },
      "execution_count": null,
      "outputs": [
        {
          "output_type": "stream",
          "name": "stdout",
          "text": [
            "14\n"
          ]
        }
      ]
    },
    {
      "cell_type": "code",
      "source": [
        "#Defining numby matrix\n",
        "var1 = np.arange(1,13,dtype=np.int32) #12\n",
        "var2 = np.arange(15,27,dtype=np.int32) #12 digit of range 15:17\n",
        "var1"
      ],
      "metadata": {
        "colab": {
          "base_uri": "https://localhost:8080/"
        },
        "id": "vuWUu14iqQcm",
        "outputId": "dbb228cd-f098-4e0d-8272-3d4279bab0a6"
      },
      "execution_count": null,
      "outputs": [
        {
          "output_type": "execute_result",
          "data": {
            "text/plain": [
              "array([ 1,  2,  3,  4,  5,  6,  7,  8,  9, 10, 11, 12], dtype=int32)"
            ]
          },
          "metadata": {},
          "execution_count": 10
        }
      ]
    },
    {
      "cell_type": "code",
      "source": [
        "#converting matrces to tensors\n",
        "mat1=tf.constant(var1,shape=[3,4])\n",
        "mat2=tf.constant(var1,shape=[4,3])\n",
        "res = tf.matmul(mat1,mat2)\n",
        "res"
      ],
      "metadata": {
        "colab": {
          "base_uri": "https://localhost:8080/"
        },
        "id": "d7TGfNhZq_Xq",
        "outputId": "5b687fbb-1949-4881-cdf0-28e712080c30"
      },
      "execution_count": null,
      "outputs": [
        {
          "output_type": "execute_result",
          "data": {
            "text/plain": [
              "<tf.Tensor 'MatMul:0' shape=(3, 3) dtype=int32>"
            ]
          },
          "metadata": {},
          "execution_count": 11
        }
      ]
    },
    {
      "cell_type": "code",
      "source": [
        "#open & clossing session to print results\n",
        "with tf.compat.v1.Session() as sess:\n",
        "  res=sess.run(res)\n",
        "  print(res)"
      ],
      "metadata": {
        "colab": {
          "base_uri": "https://localhost:8080/"
        },
        "id": "5ZZzLEuwsggQ",
        "outputId": "69db8462-0712-4865-fcd8-43afbd6ba865"
      },
      "execution_count": null,
      "outputs": [
        {
          "output_type": "stream",
          "name": "stdout",
          "text": [
            "[[ 70  80  90]\n",
            " [158 184 210]\n",
            " [246 288 330]]\n"
          ]
        }
      ]
    },
    {
      "cell_type": "markdown",
      "source": [
        "#Exercice:\n",
        "   * get the :v1=[1,2,3,4] ,v2[6,7,8,9]\n",
        "    * add\n",
        "    * sub\n",
        "    * multi\n",
        "    * divide\n"
      ],
      "metadata": {
        "id": "yKmqBpR6tgYt"
      }
    },
    {
      "cell_type": "code",
      "source": [
        "#converting matrces to tensors\n",
        "v1 = tf.constant([1,2,3,4])\n",
        "v2 = tf.constant([6,7,8,9])\n",
        "\n",
        "mult = tf.multiply(v1,v2)\n",
        "add = tf.add(v1,v2)\n",
        "subtract = tf.subtract(v1,v2)\n",
        "divide = tf.divide(v1,v2)\n",
        "\n",
        "with tf.compat.v1.Session() as sess:\n",
        "  print(sess.run(mult))\n",
        "  print(sess.run(add))\n",
        "  print(sess.run(subtract))\n",
        "  print(sess.run(divide))\n",
        "\n"
      ],
      "metadata": {
        "colab": {
          "base_uri": "https://localhost:8080/"
        },
        "id": "K5GSp1MxtYgt",
        "outputId": "fa0e76c9-7065-481b-b041-fed8f1a4b72c"
      },
      "execution_count": null,
      "outputs": [
        {
          "output_type": "stream",
          "name": "stdout",
          "text": [
            "[ 6 14 24 36]\n",
            "[ 7  9 11 13]\n",
            "[-5 -5 -5 -5]\n",
            "[0.16666667 0.28571429 0.375      0.44444444]\n"
          ]
        }
      ]
    },
    {
      "cell_type": "markdown",
      "source": [
        "#**apply linear regression using Tensorflow**\n",
        "    * y = wx + b"
      ],
      "metadata": {
        "id": "kxEME2bkxkbX"
      }
    },
    {
      "cell_type": "code",
      "source": [
        "X_data =np.random.randn(4,9)  #randn btgeb arkam random bs feha normal distribution\n",
        "w_data =np.random.randn(9,1)\n",
        "b_data =np.zeros(4)"
      ],
      "metadata": {
        "id": "anDZwMi1ublf"
      },
      "execution_count": null,
      "outputs": []
    },
    {
      "cell_type": "code",
      "source": [
        "x = tf.constant(X_data, shape = [4,9])\n",
        "w = tf.constant(w_data, shape = [9,1])  # weight should not be constat\n",
        "b = tf.constant(b_data, shape = [4,1])"
      ],
      "metadata": {
        "id": "4-f6bQ6EynBw"
      },
      "execution_count": null,
      "outputs": []
    },
    {
      "cell_type": "code",
      "source": [
        "y = tf.add(tf.matmul(x,w),b)"
      ],
      "metadata": {
        "id": "w-xZlihH0ZD3"
      },
      "execution_count": null,
      "outputs": []
    },
    {
      "cell_type": "code",
      "source": [
        "with tf.compat.v1.Session() as sess:\n",
        "  print(sess.run(y))"
      ],
      "metadata": {
        "colab": {
          "base_uri": "https://localhost:8080/"
        },
        "id": "Dh8x9uvH2UZT",
        "outputId": "2865844a-7654-4ef9-ef61-ecea934ca00a"
      },
      "execution_count": null,
      "outputs": [
        {
          "output_type": "stream",
          "name": "stdout",
          "text": [
            "[[-3.42153403]\n",
            " [-0.7674388 ]\n",
            " [ 3.34128307]\n",
            " [ 1.37241712]]\n"
          ]
        }
      ]
    },
    {
      "cell_type": "markdown",
      "source": [
        "#variable\n",
        "   * to make varibale u have to\n",
        "\n",
        "     1.   definition\n",
        "     2.   initialization\n",
        "     3.   Excution(session)\n",
        "\n"
      ],
      "metadata": {
        "id": "7qxpJdxzyg5j"
      }
    },
    {
      "cell_type": "code",
      "source": [
        "var1 = tf.Variable(12 , name=\"variable\")\n",
        "var2 = tf.Variable(13 , name=\"variable\")"
      ],
      "metadata": {
        "id": "MmCllaBO3-xo"
      },
      "execution_count": null,
      "outputs": []
    },
    {
      "cell_type": "code",
      "source": [
        "init = tf.compat.v1.global_variables_initializer()"
      ],
      "metadata": {
        "id": "TyKXJ6ZzawJG"
      },
      "execution_count": null,
      "outputs": []
    },
    {
      "cell_type": "code",
      "source": [
        "with tf.compat.v1.Session() as sess:\n",
        "  sess.run(init)\n",
        "  print(sess.run(var1))"
      ],
      "metadata": {
        "colab": {
          "base_uri": "https://localhost:8080/"
        },
        "id": "Dm0KOozT4NDA",
        "outputId": "494cbd45-ce0f-4ccd-a9c8-a57885196978"
      },
      "execution_count": null,
      "outputs": [
        {
          "output_type": "stream",
          "name": "stdout",
          "text": [
            "12\n"
          ]
        }
      ]
    },
    {
      "cell_type": "markdown",
      "source": [
        "#**linear regression using variable**\n",
        " * w = [[1,2,3]]\n",
        " * x = [3] ,[4] ,[5]\n",
        " * b=1"
      ],
      "metadata": {
        "id": "hwxwkyTO1qG3"
      }
    },
    {
      "cell_type": "code",
      "source": [
        "from operator import matmul\n",
        "x = tf.constant([[3],[4],[4]],shape=(3,1))\n",
        "w = tf.Variable([[1,2,3]],shape=(1,3))\n",
        "b = tf.Variable(1)\n",
        "res = tf.add(tf.matmul(x,w),b)\n",
        "res"
      ],
      "metadata": {
        "id": "QUcQqhxp4ZpE",
        "colab": {
          "base_uri": "https://localhost:8080/"
        },
        "outputId": "c037eb86-43b3-4915-a396-380466b833bd"
      },
      "execution_count": null,
      "outputs": [
        {
          "output_type": "execute_result",
          "data": {
            "text/plain": [
              "<tf.Tensor 'Add_4:0' shape=(3, 3) dtype=int32>"
            ]
          },
          "metadata": {},
          "execution_count": 46
        }
      ]
    },
    {
      "cell_type": "code",
      "source": [
        "init = tf.compat.v1.global_variables_initializer()"
      ],
      "metadata": {
        "id": "vUN5EemC4bR8"
      },
      "execution_count": null,
      "outputs": []
    },
    {
      "cell_type": "code",
      "source": [
        "with tf.compat.v1.Session() as sess:\n",
        "  sess.run(init)\n",
        "  print(sess.run(res))"
      ],
      "metadata": {
        "colab": {
          "base_uri": "https://localhost:8080/"
        },
        "id": "vjX4PQrA2HAc",
        "outputId": "32b67ebf-c8e9-4c5d-c088-6bbedbed59f9"
      },
      "execution_count": null,
      "outputs": [
        {
          "output_type": "stream",
          "name": "stdout",
          "text": [
            "[[ 4  7 10]\n",
            " [ 5  9 13]\n",
            " [ 5  9 13]]\n"
          ]
        }
      ]
    },
    {
      "cell_type": "markdown",
      "source": [
        "#**Linear Regression using Gradient descent to update the weight**"
      ],
      "metadata": {
        "id": "xD2juVp07_NF"
      }
    },
    {
      "cell_type": "code",
      "source": [
        "x_data = np.array([ [4,2],[3,5],[4,5],[4,3] ],dtype=f\"float64\")\n",
        "y_data = np.array([ [5],[7],[6],[9] ],dtype=f\"float64\")"
      ],
      "metadata": {
        "id": "NXv3hj633atl"
      },
      "execution_count": null,
      "outputs": []
    },
    {
      "cell_type": "code",
      "source": [
        "x = tf.constant(x_data)\n",
        "y =  tf.constant(y_data)\n",
        "\n",
        "w = tf.Variable(np.random.randn(2,1))\n",
        "b = tf.Variable(np.zeros(4),dtype=\"float32\")"
      ],
      "metadata": {
        "id": "ZEiUaoZw80Eq"
      },
      "execution_count": null,
      "outputs": []
    },
    {
      "cell_type": "code",
      "source": [
        "init = tf.compat.v1.global_variables_initializer()"
      ],
      "metadata": {
        "id": "1wJF-7P99TbQ"
      },
      "execution_count": null,
      "outputs": []
    },
    {
      "cell_type": "code",
      "source": [
        "#feedforward\n",
        "y_pred = tf.add(tf.matmul(x,w),b)\n",
        "#Backrward\n",
        "cost =1/n * tf.square(y_pred -y)"
      ],
      "metadata": {
        "colab": {
          "base_uri": "https://localhost:8080/",
          "height": 356
        },
        "id": "MfXI51JM-Vic",
        "outputId": "cc8ce155-9587-47e4-d10a-67e66afdd1a7"
      },
      "execution_count": null,
      "outputs": [
        {
          "output_type": "error",
          "ename": "TypeError",
          "evalue": "Input 'y' of 'AddV2' Op has type float32 that does not match type float64 of argument 'x'.",
          "traceback": [
            "\u001b[0;31m---------------------------------------------------------------------------\u001b[0m",
            "\u001b[0;31mTypeError\u001b[0m                                 Traceback (most recent call last)",
            "\u001b[0;32m<ipython-input-63-09618e0cc486>\u001b[0m in \u001b[0;36m<cell line: 2>\u001b[0;34m()\u001b[0m\n\u001b[1;32m      1\u001b[0m \u001b[0;31m#feedforward\u001b[0m\u001b[0;34m\u001b[0m\u001b[0;34m\u001b[0m\u001b[0m\n\u001b[0;32m----> 2\u001b[0;31m \u001b[0my_pred\u001b[0m \u001b[0;34m=\u001b[0m \u001b[0mtf\u001b[0m\u001b[0;34m.\u001b[0m\u001b[0madd\u001b[0m\u001b[0;34m(\u001b[0m\u001b[0mtf\u001b[0m\u001b[0;34m.\u001b[0m\u001b[0mmatmul\u001b[0m\u001b[0;34m(\u001b[0m\u001b[0mx\u001b[0m\u001b[0;34m,\u001b[0m\u001b[0mw\u001b[0m\u001b[0;34m)\u001b[0m\u001b[0;34m,\u001b[0m\u001b[0mb\u001b[0m\u001b[0;34m)\u001b[0m\u001b[0;34m\u001b[0m\u001b[0;34m\u001b[0m\u001b[0m\n\u001b[0m\u001b[1;32m      3\u001b[0m \u001b[0;31m#Backrward\u001b[0m\u001b[0;34m\u001b[0m\u001b[0;34m\u001b[0m\u001b[0m\n\u001b[1;32m      4\u001b[0m \u001b[0mcost\u001b[0m \u001b[0;34m=\u001b[0m\u001b[0;36m1\u001b[0m\u001b[0;34m/\u001b[0m\u001b[0mn\u001b[0m \u001b[0;34m*\u001b[0m \u001b[0mtf\u001b[0m\u001b[0;34m.\u001b[0m\u001b[0msquare\u001b[0m\u001b[0;34m(\u001b[0m\u001b[0my_pred\u001b[0m \u001b[0;34m-\u001b[0m\u001b[0my\u001b[0m\u001b[0;34m)\u001b[0m\u001b[0;34m\u001b[0m\u001b[0;34m\u001b[0m\u001b[0m\n",
            "\u001b[0;32m/usr/local/lib/python3.10/dist-packages/tensorflow/python/ops/weak_tensor_ops.py\u001b[0m in \u001b[0;36mwrapper\u001b[0;34m(*args, **kwargs)\u001b[0m\n\u001b[1;32m    140\u001b[0m   \u001b[0;32mdef\u001b[0m \u001b[0mwrapper\u001b[0m\u001b[0;34m(\u001b[0m\u001b[0;34m*\u001b[0m\u001b[0margs\u001b[0m\u001b[0;34m,\u001b[0m \u001b[0;34m**\u001b[0m\u001b[0mkwargs\u001b[0m\u001b[0;34m)\u001b[0m\u001b[0;34m:\u001b[0m\u001b[0;34m\u001b[0m\u001b[0;34m\u001b[0m\u001b[0m\n\u001b[1;32m    141\u001b[0m     \u001b[0;32mif\u001b[0m \u001b[0;32mnot\u001b[0m \u001b[0mops\u001b[0m\u001b[0;34m.\u001b[0m\u001b[0mis_auto_dtype_conversion_enabled\u001b[0m\u001b[0;34m(\u001b[0m\u001b[0;34m)\u001b[0m\u001b[0;34m:\u001b[0m\u001b[0;34m\u001b[0m\u001b[0;34m\u001b[0m\u001b[0m\n\u001b[0;32m--> 142\u001b[0;31m       \u001b[0;32mreturn\u001b[0m \u001b[0mop\u001b[0m\u001b[0;34m(\u001b[0m\u001b[0;34m*\u001b[0m\u001b[0margs\u001b[0m\u001b[0;34m,\u001b[0m \u001b[0;34m**\u001b[0m\u001b[0mkwargs\u001b[0m\u001b[0;34m)\u001b[0m\u001b[0;34m\u001b[0m\u001b[0;34m\u001b[0m\u001b[0m\n\u001b[0m\u001b[1;32m    143\u001b[0m     \u001b[0mbound_arguments\u001b[0m \u001b[0;34m=\u001b[0m \u001b[0msignature\u001b[0m\u001b[0;34m.\u001b[0m\u001b[0mbind\u001b[0m\u001b[0;34m(\u001b[0m\u001b[0;34m*\u001b[0m\u001b[0margs\u001b[0m\u001b[0;34m,\u001b[0m \u001b[0;34m**\u001b[0m\u001b[0mkwargs\u001b[0m\u001b[0;34m)\u001b[0m\u001b[0;34m\u001b[0m\u001b[0;34m\u001b[0m\u001b[0m\n\u001b[1;32m    144\u001b[0m     \u001b[0mbound_arguments\u001b[0m\u001b[0;34m.\u001b[0m\u001b[0mapply_defaults\u001b[0m\u001b[0;34m(\u001b[0m\u001b[0;34m)\u001b[0m\u001b[0;34m\u001b[0m\u001b[0;34m\u001b[0m\u001b[0m\n",
            "\u001b[0;32m/usr/local/lib/python3.10/dist-packages/tensorflow/python/util/traceback_utils.py\u001b[0m in \u001b[0;36merror_handler\u001b[0;34m(*args, **kwargs)\u001b[0m\n\u001b[1;32m    151\u001b[0m     \u001b[0;32mexcept\u001b[0m \u001b[0mException\u001b[0m \u001b[0;32mas\u001b[0m \u001b[0me\u001b[0m\u001b[0;34m:\u001b[0m\u001b[0;34m\u001b[0m\u001b[0;34m\u001b[0m\u001b[0m\n\u001b[1;32m    152\u001b[0m       \u001b[0mfiltered_tb\u001b[0m \u001b[0;34m=\u001b[0m \u001b[0m_process_traceback_frames\u001b[0m\u001b[0;34m(\u001b[0m\u001b[0me\u001b[0m\u001b[0;34m.\u001b[0m\u001b[0m__traceback__\u001b[0m\u001b[0;34m)\u001b[0m\u001b[0;34m\u001b[0m\u001b[0;34m\u001b[0m\u001b[0m\n\u001b[0;32m--> 153\u001b[0;31m       \u001b[0;32mraise\u001b[0m \u001b[0me\u001b[0m\u001b[0;34m.\u001b[0m\u001b[0mwith_traceback\u001b[0m\u001b[0;34m(\u001b[0m\u001b[0mfiltered_tb\u001b[0m\u001b[0;34m)\u001b[0m \u001b[0;32mfrom\u001b[0m \u001b[0;32mNone\u001b[0m\u001b[0;34m\u001b[0m\u001b[0;34m\u001b[0m\u001b[0m\n\u001b[0m\u001b[1;32m    154\u001b[0m     \u001b[0;32mfinally\u001b[0m\u001b[0;34m:\u001b[0m\u001b[0;34m\u001b[0m\u001b[0;34m\u001b[0m\u001b[0m\n\u001b[1;32m    155\u001b[0m       \u001b[0;32mdel\u001b[0m \u001b[0mfiltered_tb\u001b[0m\u001b[0;34m\u001b[0m\u001b[0;34m\u001b[0m\u001b[0m\n",
            "\u001b[0;32m/usr/local/lib/python3.10/dist-packages/tensorflow/python/framework/op_def_library.py\u001b[0m in \u001b[0;36m_ExtractInputsAndAttrs\u001b[0;34m(op_type_name, op_def, allowed_list_attr_map, keywords, default_type_attr_map, attrs, inputs, input_types)\u001b[0m\n\u001b[1;32m    587\u001b[0m                 \u001b[0minferred_from\u001b[0m\u001b[0;34m[\u001b[0m\u001b[0mk\u001b[0m\u001b[0;34m]\u001b[0m \u001b[0;34m=\u001b[0m \u001b[0;34m\"Default in OpDef\"\u001b[0m\u001b[0;34m\u001b[0m\u001b[0;34m\u001b[0m\u001b[0m\n\u001b[1;32m    588\u001b[0m \u001b[0;34m\u001b[0m\u001b[0m\n\u001b[0;32m--> 589\u001b[0;31m           raise TypeError(\n\u001b[0m\u001b[1;32m    590\u001b[0m               \u001b[0;34mf\"{prefix} type \"\u001b[0m\u001b[0;34m\u001b[0m\u001b[0;34m\u001b[0m\u001b[0m\n\u001b[1;32m    591\u001b[0m               \u001b[0;34mf\"{dtypes.as_dtype(attrs[input_arg.type_attr]).name} of \"\u001b[0m\u001b[0;34m\u001b[0m\u001b[0;34m\u001b[0m\u001b[0m\n",
            "\u001b[0;31mTypeError\u001b[0m: Input 'y' of 'AddV2' Op has type float32 that does not match type float64 of argument 'x'."
          ]
        }
      ]
    },
    {
      "cell_type": "code",
      "source": [],
      "metadata": {
        "id": "2CnYY27J_MRz"
      },
      "execution_count": null,
      "outputs": []
    }
  ]
}